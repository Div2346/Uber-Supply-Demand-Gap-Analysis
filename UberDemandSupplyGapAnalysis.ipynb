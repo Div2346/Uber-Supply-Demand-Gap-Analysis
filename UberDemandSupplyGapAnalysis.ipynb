{
 "cells": [
  {
   "cell_type": "code",
   "execution_count": 132,
   "id": "584a03d8",
   "metadata": {},
   "outputs": [],
   "source": [
    "#Importing the required functionalities\n",
    "import pandas as pd\n",
    "import numpy as np\n",
    "import matplotlib.pyplot as plt"
   ]
  },
  {
   "cell_type": "code",
   "execution_count": 133,
   "id": "8c95230f",
   "metadata": {},
   "outputs": [],
   "source": [
    "#Reading the data from csv. Importing it into a data-frame\n",
    "df = pd.read_csv('./Uber Request Data.csv')"
   ]
  },
  {
   "cell_type": "code",
   "execution_count": 134,
   "id": "e47883c2",
   "metadata": {},
   "outputs": [
    {
     "data": {
      "text/html": [
       "<div>\n",
       "<style scoped>\n",
       "    .dataframe tbody tr th:only-of-type {\n",
       "        vertical-align: middle;\n",
       "    }\n",
       "\n",
       "    .dataframe tbody tr th {\n",
       "        vertical-align: top;\n",
       "    }\n",
       "\n",
       "    .dataframe thead th {\n",
       "        text-align: right;\n",
       "    }\n",
       "</style>\n",
       "<table border=\"1\" class=\"dataframe\">\n",
       "  <thead>\n",
       "    <tr style=\"text-align: right;\">\n",
       "      <th></th>\n",
       "      <th>Request id</th>\n",
       "      <th>Pickup point</th>\n",
       "      <th>Driver id</th>\n",
       "      <th>Status</th>\n",
       "      <th>Request timestamp</th>\n",
       "      <th>Drop timestamp</th>\n",
       "    </tr>\n",
       "  </thead>\n",
       "  <tbody>\n",
       "    <tr>\n",
       "      <th>0</th>\n",
       "      <td>619</td>\n",
       "      <td>Airport</td>\n",
       "      <td>1.0</td>\n",
       "      <td>Trip Completed</td>\n",
       "      <td>11/7/2016 11:51</td>\n",
       "      <td>11/7/2016 13:00</td>\n",
       "    </tr>\n",
       "    <tr>\n",
       "      <th>1</th>\n",
       "      <td>867</td>\n",
       "      <td>Airport</td>\n",
       "      <td>1.0</td>\n",
       "      <td>Trip Completed</td>\n",
       "      <td>11/7/2016 17:57</td>\n",
       "      <td>11/7/2016 18:47</td>\n",
       "    </tr>\n",
       "    <tr>\n",
       "      <th>2</th>\n",
       "      <td>1807</td>\n",
       "      <td>City</td>\n",
       "      <td>1.0</td>\n",
       "      <td>Trip Completed</td>\n",
       "      <td>12/7/2016 9:17</td>\n",
       "      <td>12/7/2016 9:58</td>\n",
       "    </tr>\n",
       "    <tr>\n",
       "      <th>3</th>\n",
       "      <td>2532</td>\n",
       "      <td>Airport</td>\n",
       "      <td>1.0</td>\n",
       "      <td>Trip Completed</td>\n",
       "      <td>12/7/2016 21:08</td>\n",
       "      <td>12/7/2016 22:03</td>\n",
       "    </tr>\n",
       "    <tr>\n",
       "      <th>4</th>\n",
       "      <td>3112</td>\n",
       "      <td>City</td>\n",
       "      <td>1.0</td>\n",
       "      <td>Trip Completed</td>\n",
       "      <td>13-07-2016 08:33:16</td>\n",
       "      <td>13-07-2016 09:25:47</td>\n",
       "    </tr>\n",
       "    <tr>\n",
       "      <th>...</th>\n",
       "      <td>...</td>\n",
       "      <td>...</td>\n",
       "      <td>...</td>\n",
       "      <td>...</td>\n",
       "      <td>...</td>\n",
       "      <td>...</td>\n",
       "    </tr>\n",
       "    <tr>\n",
       "      <th>6740</th>\n",
       "      <td>6745</td>\n",
       "      <td>City</td>\n",
       "      <td>NaN</td>\n",
       "      <td>No Cars Available</td>\n",
       "      <td>15-07-2016 23:49:03</td>\n",
       "      <td>NaN</td>\n",
       "    </tr>\n",
       "    <tr>\n",
       "      <th>6741</th>\n",
       "      <td>6752</td>\n",
       "      <td>Airport</td>\n",
       "      <td>NaN</td>\n",
       "      <td>No Cars Available</td>\n",
       "      <td>15-07-2016 23:50:05</td>\n",
       "      <td>NaN</td>\n",
       "    </tr>\n",
       "    <tr>\n",
       "      <th>6742</th>\n",
       "      <td>6751</td>\n",
       "      <td>City</td>\n",
       "      <td>NaN</td>\n",
       "      <td>No Cars Available</td>\n",
       "      <td>15-07-2016 23:52:06</td>\n",
       "      <td>NaN</td>\n",
       "    </tr>\n",
       "    <tr>\n",
       "      <th>6743</th>\n",
       "      <td>6754</td>\n",
       "      <td>City</td>\n",
       "      <td>NaN</td>\n",
       "      <td>No Cars Available</td>\n",
       "      <td>15-07-2016 23:54:39</td>\n",
       "      <td>NaN</td>\n",
       "    </tr>\n",
       "    <tr>\n",
       "      <th>6744</th>\n",
       "      <td>6753</td>\n",
       "      <td>Airport</td>\n",
       "      <td>NaN</td>\n",
       "      <td>No Cars Available</td>\n",
       "      <td>15-07-2016 23:55:03</td>\n",
       "      <td>NaN</td>\n",
       "    </tr>\n",
       "  </tbody>\n",
       "</table>\n",
       "<p>6745 rows × 6 columns</p>\n",
       "</div>"
      ],
      "text/plain": [
       "      Request id Pickup point  Driver id             Status  \\\n",
       "0            619      Airport        1.0     Trip Completed   \n",
       "1            867      Airport        1.0     Trip Completed   \n",
       "2           1807         City        1.0     Trip Completed   \n",
       "3           2532      Airport        1.0     Trip Completed   \n",
       "4           3112         City        1.0     Trip Completed   \n",
       "...          ...          ...        ...                ...   \n",
       "6740        6745         City        NaN  No Cars Available   \n",
       "6741        6752      Airport        NaN  No Cars Available   \n",
       "6742        6751         City        NaN  No Cars Available   \n",
       "6743        6754         City        NaN  No Cars Available   \n",
       "6744        6753      Airport        NaN  No Cars Available   \n",
       "\n",
       "        Request timestamp       Drop timestamp  \n",
       "0         11/7/2016 11:51      11/7/2016 13:00  \n",
       "1         11/7/2016 17:57      11/7/2016 18:47  \n",
       "2          12/7/2016 9:17       12/7/2016 9:58  \n",
       "3         12/7/2016 21:08      12/7/2016 22:03  \n",
       "4     13-07-2016 08:33:16  13-07-2016 09:25:47  \n",
       "...                   ...                  ...  \n",
       "6740  15-07-2016 23:49:03                  NaN  \n",
       "6741  15-07-2016 23:50:05                  NaN  \n",
       "6742  15-07-2016 23:52:06                  NaN  \n",
       "6743  15-07-2016 23:54:39                  NaN  \n",
       "6744  15-07-2016 23:55:03                  NaN  \n",
       "\n",
       "[6745 rows x 6 columns]"
      ]
     },
     "execution_count": 134,
     "metadata": {},
     "output_type": "execute_result"
    }
   ],
   "source": [
    "#Printing the data-frame\n",
    "df"
   ]
  },
  {
   "cell_type": "code",
   "execution_count": 135,
   "id": "a46cf661",
   "metadata": {},
   "outputs": [
    {
     "data": {
      "text/plain": [
       "(6745, 6)"
      ]
     },
     "execution_count": 135,
     "metadata": {},
     "output_type": "execute_result"
    }
   ],
   "source": [
    "#Printing the shape of data-frame(rows, columns)\n",
    "df.shape"
   ]
  },
  {
   "cell_type": "code",
   "execution_count": 136,
   "id": "99d44c91",
   "metadata": {},
   "outputs": [
    {
     "data": {
      "text/plain": [
       "Index(['Request id', 'Pickup point', 'Driver id', 'Status',\n",
       "       'Request timestamp', 'Drop timestamp'],\n",
       "      dtype='object')"
      ]
     },
     "execution_count": 136,
     "metadata": {},
     "output_type": "execute_result"
    }
   ],
   "source": [
    "#Printing the column names\n",
    "df.columns"
   ]
  },
  {
   "cell_type": "code",
   "execution_count": 137,
   "id": "33ab2bf3",
   "metadata": {},
   "outputs": [],
   "source": [
    "#Changing the column names into a uniform format\n",
    "df.columns = ['Request_ID','Pickup_Point','Driver_ID','Status','Request_Timestamp','Drop_Timestamp']"
   ]
  },
  {
   "cell_type": "code",
   "execution_count": 138,
   "id": "e55091e5",
   "metadata": {},
   "outputs": [
    {
     "data": {
      "text/html": [
       "<div>\n",
       "<style scoped>\n",
       "    .dataframe tbody tr th:only-of-type {\n",
       "        vertical-align: middle;\n",
       "    }\n",
       "\n",
       "    .dataframe tbody tr th {\n",
       "        vertical-align: top;\n",
       "    }\n",
       "\n",
       "    .dataframe thead th {\n",
       "        text-align: right;\n",
       "    }\n",
       "</style>\n",
       "<table border=\"1\" class=\"dataframe\">\n",
       "  <thead>\n",
       "    <tr style=\"text-align: right;\">\n",
       "      <th></th>\n",
       "      <th>Request_ID</th>\n",
       "      <th>Pickup_Point</th>\n",
       "      <th>Driver_ID</th>\n",
       "      <th>Status</th>\n",
       "      <th>Request_Timestamp</th>\n",
       "      <th>Drop_Timestamp</th>\n",
       "    </tr>\n",
       "  </thead>\n",
       "  <tbody>\n",
       "    <tr>\n",
       "      <th>0</th>\n",
       "      <td>619</td>\n",
       "      <td>Airport</td>\n",
       "      <td>1.0</td>\n",
       "      <td>Trip Completed</td>\n",
       "      <td>11/7/2016 11:51</td>\n",
       "      <td>11/7/2016 13:00</td>\n",
       "    </tr>\n",
       "    <tr>\n",
       "      <th>1</th>\n",
       "      <td>867</td>\n",
       "      <td>Airport</td>\n",
       "      <td>1.0</td>\n",
       "      <td>Trip Completed</td>\n",
       "      <td>11/7/2016 17:57</td>\n",
       "      <td>11/7/2016 18:47</td>\n",
       "    </tr>\n",
       "    <tr>\n",
       "      <th>2</th>\n",
       "      <td>1807</td>\n",
       "      <td>City</td>\n",
       "      <td>1.0</td>\n",
       "      <td>Trip Completed</td>\n",
       "      <td>12/7/2016 9:17</td>\n",
       "      <td>12/7/2016 9:58</td>\n",
       "    </tr>\n",
       "    <tr>\n",
       "      <th>3</th>\n",
       "      <td>2532</td>\n",
       "      <td>Airport</td>\n",
       "      <td>1.0</td>\n",
       "      <td>Trip Completed</td>\n",
       "      <td>12/7/2016 21:08</td>\n",
       "      <td>12/7/2016 22:03</td>\n",
       "    </tr>\n",
       "    <tr>\n",
       "      <th>4</th>\n",
       "      <td>3112</td>\n",
       "      <td>City</td>\n",
       "      <td>1.0</td>\n",
       "      <td>Trip Completed</td>\n",
       "      <td>13-07-2016 08:33:16</td>\n",
       "      <td>13-07-2016 09:25:47</td>\n",
       "    </tr>\n",
       "  </tbody>\n",
       "</table>\n",
       "</div>"
      ],
      "text/plain": [
       "   Request_ID Pickup_Point  Driver_ID          Status    Request_Timestamp  \\\n",
       "0         619      Airport        1.0  Trip Completed      11/7/2016 11:51   \n",
       "1         867      Airport        1.0  Trip Completed      11/7/2016 17:57   \n",
       "2        1807         City        1.0  Trip Completed       12/7/2016 9:17   \n",
       "3        2532      Airport        1.0  Trip Completed      12/7/2016 21:08   \n",
       "4        3112         City        1.0  Trip Completed  13-07-2016 08:33:16   \n",
       "\n",
       "        Drop_Timestamp  \n",
       "0      11/7/2016 13:00  \n",
       "1      11/7/2016 18:47  \n",
       "2       12/7/2016 9:58  \n",
       "3      12/7/2016 22:03  \n",
       "4  13-07-2016 09:25:47  "
      ]
     },
     "execution_count": 138,
     "metadata": {},
     "output_type": "execute_result"
    }
   ],
   "source": [
    "#Displaying the first 5 rows to check changes\n",
    "df.head(5)"
   ]
  },
  {
   "cell_type": "code",
   "execution_count": 139,
   "id": "8c0168c4",
   "metadata": {},
   "outputs": [
    {
     "data": {
      "text/plain": [
       "Request_ID             int64\n",
       "Pickup_Point          object\n",
       "Driver_ID            float64\n",
       "Status                object\n",
       "Request_Timestamp     object\n",
       "Drop_Timestamp        object\n",
       "dtype: object"
      ]
     },
     "execution_count": 139,
     "metadata": {},
     "output_type": "execute_result"
    }
   ],
   "source": [
    "#Checking the data-type each column has\n",
    "df.dtypes"
   ]
  },
  {
   "cell_type": "code",
   "execution_count": 140,
   "id": "c957a9d5",
   "metadata": {},
   "outputs": [],
   "source": [
    "#Converting the timestamp columns into a datetime object\n",
    "df[\"Request_Timestamp\"] = pd.to_datetime(df[\"Request_Timestamp\"], errors = 'coerce')\n",
    "df[\"Drop_Timestamp\"] = pd.to_datetime(df[\"Request_Timestamp\"], errors = 'coerce')"
   ]
  },
  {
   "cell_type": "code",
   "execution_count": 141,
   "id": "3e07ec0e",
   "metadata": {},
   "outputs": [
    {
     "data": {
      "text/plain": [
       "Request_ID                    int64\n",
       "Pickup_Point                 object\n",
       "Driver_ID                   float64\n",
       "Status                       object\n",
       "Request_Timestamp    datetime64[ns]\n",
       "Drop_Timestamp       datetime64[ns]\n",
       "dtype: object"
      ]
     },
     "execution_count": 141,
     "metadata": {},
     "output_type": "execute_result"
    }
   ],
   "source": [
    "#Checking the changes\n",
    "df.dtypes"
   ]
  },
  {
   "cell_type": "code",
   "execution_count": 142,
   "id": "7542e5c4",
   "metadata": {},
   "outputs": [
    {
     "data": {
      "text/html": [
       "<div>\n",
       "<style scoped>\n",
       "    .dataframe tbody tr th:only-of-type {\n",
       "        vertical-align: middle;\n",
       "    }\n",
       "\n",
       "    .dataframe tbody tr th {\n",
       "        vertical-align: top;\n",
       "    }\n",
       "\n",
       "    .dataframe thead th {\n",
       "        text-align: right;\n",
       "    }\n",
       "</style>\n",
       "<table border=\"1\" class=\"dataframe\">\n",
       "  <thead>\n",
       "    <tr style=\"text-align: right;\">\n",
       "      <th></th>\n",
       "      <th>Request_ID</th>\n",
       "      <th>Pickup_Point</th>\n",
       "      <th>Driver_ID</th>\n",
       "      <th>Status</th>\n",
       "      <th>Request_Timestamp</th>\n",
       "      <th>Drop_Timestamp</th>\n",
       "    </tr>\n",
       "  </thead>\n",
       "  <tbody>\n",
       "    <tr>\n",
       "      <th>0</th>\n",
       "      <td>619</td>\n",
       "      <td>Airport</td>\n",
       "      <td>1.0</td>\n",
       "      <td>Trip Completed</td>\n",
       "      <td>2016-11-07 11:51:00</td>\n",
       "      <td>2016-11-07 11:51:00</td>\n",
       "    </tr>\n",
       "    <tr>\n",
       "      <th>1</th>\n",
       "      <td>867</td>\n",
       "      <td>Airport</td>\n",
       "      <td>1.0</td>\n",
       "      <td>Trip Completed</td>\n",
       "      <td>2016-11-07 17:57:00</td>\n",
       "      <td>2016-11-07 17:57:00</td>\n",
       "    </tr>\n",
       "    <tr>\n",
       "      <th>2</th>\n",
       "      <td>1807</td>\n",
       "      <td>City</td>\n",
       "      <td>1.0</td>\n",
       "      <td>Trip Completed</td>\n",
       "      <td>2016-12-07 09:17:00</td>\n",
       "      <td>2016-12-07 09:17:00</td>\n",
       "    </tr>\n",
       "    <tr>\n",
       "      <th>3</th>\n",
       "      <td>2532</td>\n",
       "      <td>Airport</td>\n",
       "      <td>1.0</td>\n",
       "      <td>Trip Completed</td>\n",
       "      <td>2016-12-07 21:08:00</td>\n",
       "      <td>2016-12-07 21:08:00</td>\n",
       "    </tr>\n",
       "    <tr>\n",
       "      <th>4</th>\n",
       "      <td>3112</td>\n",
       "      <td>City</td>\n",
       "      <td>1.0</td>\n",
       "      <td>Trip Completed</td>\n",
       "      <td>2016-07-13 08:33:16</td>\n",
       "      <td>2016-07-13 08:33:16</td>\n",
       "    </tr>\n",
       "  </tbody>\n",
       "</table>\n",
       "</div>"
      ],
      "text/plain": [
       "   Request_ID Pickup_Point  Driver_ID          Status   Request_Timestamp  \\\n",
       "0         619      Airport        1.0  Trip Completed 2016-11-07 11:51:00   \n",
       "1         867      Airport        1.0  Trip Completed 2016-11-07 17:57:00   \n",
       "2        1807         City        1.0  Trip Completed 2016-12-07 09:17:00   \n",
       "3        2532      Airport        1.0  Trip Completed 2016-12-07 21:08:00   \n",
       "4        3112         City        1.0  Trip Completed 2016-07-13 08:33:16   \n",
       "\n",
       "       Drop_Timestamp  \n",
       "0 2016-11-07 11:51:00  \n",
       "1 2016-11-07 17:57:00  \n",
       "2 2016-12-07 09:17:00  \n",
       "3 2016-12-07 21:08:00  \n",
       "4 2016-07-13 08:33:16  "
      ]
     },
     "execution_count": 142,
     "metadata": {},
     "output_type": "execute_result"
    }
   ],
   "source": [
    "#Checking the changes in the data for respective columns\n",
    "df.head(5)"
   ]
  },
  {
   "cell_type": "code",
   "execution_count": 143,
   "id": "e211984a",
   "metadata": {},
   "outputs": [
    {
     "data": {
      "text/html": [
       "<div>\n",
       "<style scoped>\n",
       "    .dataframe tbody tr th:only-of-type {\n",
       "        vertical-align: middle;\n",
       "    }\n",
       "\n",
       "    .dataframe tbody tr th {\n",
       "        vertical-align: top;\n",
       "    }\n",
       "\n",
       "    .dataframe thead th {\n",
       "        text-align: right;\n",
       "    }\n",
       "</style>\n",
       "<table border=\"1\" class=\"dataframe\">\n",
       "  <thead>\n",
       "    <tr style=\"text-align: right;\">\n",
       "      <th></th>\n",
       "      <th>Request_ID</th>\n",
       "      <th>Pickup_Point</th>\n",
       "      <th>Driver_ID</th>\n",
       "      <th>Status</th>\n",
       "      <th>Request_Timestamp</th>\n",
       "      <th>Drop_Timestamp</th>\n",
       "      <th>Request_Hour</th>\n",
       "      <th>Drop_Hour</th>\n",
       "    </tr>\n",
       "  </thead>\n",
       "  <tbody>\n",
       "    <tr>\n",
       "      <th>0</th>\n",
       "      <td>619</td>\n",
       "      <td>Airport</td>\n",
       "      <td>1.0</td>\n",
       "      <td>Trip Completed</td>\n",
       "      <td>2016-11-07 11:51:00</td>\n",
       "      <td>2016-11-07 11:51:00</td>\n",
       "      <td>11</td>\n",
       "      <td>11</td>\n",
       "    </tr>\n",
       "    <tr>\n",
       "      <th>1</th>\n",
       "      <td>867</td>\n",
       "      <td>Airport</td>\n",
       "      <td>1.0</td>\n",
       "      <td>Trip Completed</td>\n",
       "      <td>2016-11-07 17:57:00</td>\n",
       "      <td>2016-11-07 17:57:00</td>\n",
       "      <td>17</td>\n",
       "      <td>17</td>\n",
       "    </tr>\n",
       "    <tr>\n",
       "      <th>2</th>\n",
       "      <td>1807</td>\n",
       "      <td>City</td>\n",
       "      <td>1.0</td>\n",
       "      <td>Trip Completed</td>\n",
       "      <td>2016-12-07 09:17:00</td>\n",
       "      <td>2016-12-07 09:17:00</td>\n",
       "      <td>9</td>\n",
       "      <td>9</td>\n",
       "    </tr>\n",
       "    <tr>\n",
       "      <th>3</th>\n",
       "      <td>2532</td>\n",
       "      <td>Airport</td>\n",
       "      <td>1.0</td>\n",
       "      <td>Trip Completed</td>\n",
       "      <td>2016-12-07 21:08:00</td>\n",
       "      <td>2016-12-07 21:08:00</td>\n",
       "      <td>21</td>\n",
       "      <td>21</td>\n",
       "    </tr>\n",
       "    <tr>\n",
       "      <th>4</th>\n",
       "      <td>3112</td>\n",
       "      <td>City</td>\n",
       "      <td>1.0</td>\n",
       "      <td>Trip Completed</td>\n",
       "      <td>2016-07-13 08:33:16</td>\n",
       "      <td>2016-07-13 08:33:16</td>\n",
       "      <td>8</td>\n",
       "      <td>8</td>\n",
       "    </tr>\n",
       "    <tr>\n",
       "      <th>...</th>\n",
       "      <td>...</td>\n",
       "      <td>...</td>\n",
       "      <td>...</td>\n",
       "      <td>...</td>\n",
       "      <td>...</td>\n",
       "      <td>...</td>\n",
       "      <td>...</td>\n",
       "      <td>...</td>\n",
       "    </tr>\n",
       "    <tr>\n",
       "      <th>6740</th>\n",
       "      <td>6745</td>\n",
       "      <td>City</td>\n",
       "      <td>NaN</td>\n",
       "      <td>No Cars Available</td>\n",
       "      <td>2016-07-15 23:49:03</td>\n",
       "      <td>2016-07-15 23:49:03</td>\n",
       "      <td>23</td>\n",
       "      <td>23</td>\n",
       "    </tr>\n",
       "    <tr>\n",
       "      <th>6741</th>\n",
       "      <td>6752</td>\n",
       "      <td>Airport</td>\n",
       "      <td>NaN</td>\n",
       "      <td>No Cars Available</td>\n",
       "      <td>2016-07-15 23:50:05</td>\n",
       "      <td>2016-07-15 23:50:05</td>\n",
       "      <td>23</td>\n",
       "      <td>23</td>\n",
       "    </tr>\n",
       "    <tr>\n",
       "      <th>6742</th>\n",
       "      <td>6751</td>\n",
       "      <td>City</td>\n",
       "      <td>NaN</td>\n",
       "      <td>No Cars Available</td>\n",
       "      <td>2016-07-15 23:52:06</td>\n",
       "      <td>2016-07-15 23:52:06</td>\n",
       "      <td>23</td>\n",
       "      <td>23</td>\n",
       "    </tr>\n",
       "    <tr>\n",
       "      <th>6743</th>\n",
       "      <td>6754</td>\n",
       "      <td>City</td>\n",
       "      <td>NaN</td>\n",
       "      <td>No Cars Available</td>\n",
       "      <td>2016-07-15 23:54:39</td>\n",
       "      <td>2016-07-15 23:54:39</td>\n",
       "      <td>23</td>\n",
       "      <td>23</td>\n",
       "    </tr>\n",
       "    <tr>\n",
       "      <th>6744</th>\n",
       "      <td>6753</td>\n",
       "      <td>Airport</td>\n",
       "      <td>NaN</td>\n",
       "      <td>No Cars Available</td>\n",
       "      <td>2016-07-15 23:55:03</td>\n",
       "      <td>2016-07-15 23:55:03</td>\n",
       "      <td>23</td>\n",
       "      <td>23</td>\n",
       "    </tr>\n",
       "  </tbody>\n",
       "</table>\n",
       "<p>6745 rows × 8 columns</p>\n",
       "</div>"
      ],
      "text/plain": [
       "      Request_ID Pickup_Point  Driver_ID             Status  \\\n",
       "0            619      Airport        1.0     Trip Completed   \n",
       "1            867      Airport        1.0     Trip Completed   \n",
       "2           1807         City        1.0     Trip Completed   \n",
       "3           2532      Airport        1.0     Trip Completed   \n",
       "4           3112         City        1.0     Trip Completed   \n",
       "...          ...          ...        ...                ...   \n",
       "6740        6745         City        NaN  No Cars Available   \n",
       "6741        6752      Airport        NaN  No Cars Available   \n",
       "6742        6751         City        NaN  No Cars Available   \n",
       "6743        6754         City        NaN  No Cars Available   \n",
       "6744        6753      Airport        NaN  No Cars Available   \n",
       "\n",
       "       Request_Timestamp      Drop_Timestamp  Request_Hour  Drop_Hour  \n",
       "0    2016-11-07 11:51:00 2016-11-07 11:51:00            11         11  \n",
       "1    2016-11-07 17:57:00 2016-11-07 17:57:00            17         17  \n",
       "2    2016-12-07 09:17:00 2016-12-07 09:17:00             9          9  \n",
       "3    2016-12-07 21:08:00 2016-12-07 21:08:00            21         21  \n",
       "4    2016-07-13 08:33:16 2016-07-13 08:33:16             8          8  \n",
       "...                  ...                 ...           ...        ...  \n",
       "6740 2016-07-15 23:49:03 2016-07-15 23:49:03            23         23  \n",
       "6741 2016-07-15 23:50:05 2016-07-15 23:50:05            23         23  \n",
       "6742 2016-07-15 23:52:06 2016-07-15 23:52:06            23         23  \n",
       "6743 2016-07-15 23:54:39 2016-07-15 23:54:39            23         23  \n",
       "6744 2016-07-15 23:55:03 2016-07-15 23:55:03            23         23  \n",
       "\n",
       "[6745 rows x 8 columns]"
      ]
     },
     "execution_count": 143,
     "metadata": {},
     "output_type": "execute_result"
    }
   ],
   "source": [
    "#Extracting hours from the time-stamps for plotting\n",
    "df['Request_Hour'] = df['Request_Timestamp'].dt.hour\n",
    "df['Drop_Hour'] = df['Drop_Timestamp'].dt.hour\n",
    "df"
   ]
  },
  {
   "cell_type": "code",
   "execution_count": 150,
   "id": "8a2b0575",
   "metadata": {},
   "outputs": [
    {
     "data": {
      "text/html": [
       "<div>\n",
       "<style scoped>\n",
       "    .dataframe tbody tr th:only-of-type {\n",
       "        vertical-align: middle;\n",
       "    }\n",
       "\n",
       "    .dataframe tbody tr th {\n",
       "        vertical-align: top;\n",
       "    }\n",
       "\n",
       "    .dataframe thead th {\n",
       "        text-align: right;\n",
       "    }\n",
       "</style>\n",
       "<table border=\"1\" class=\"dataframe\">\n",
       "  <thead>\n",
       "    <tr style=\"text-align: right;\">\n",
       "      <th></th>\n",
       "      <th>Request_ID</th>\n",
       "      <th>Pickup_Point</th>\n",
       "      <th>Driver_ID</th>\n",
       "      <th>Status</th>\n",
       "      <th>Request_Hour</th>\n",
       "      <th>Drop_Hour</th>\n",
       "    </tr>\n",
       "  </thead>\n",
       "  <tbody>\n",
       "    <tr>\n",
       "      <th>0</th>\n",
       "      <td>619</td>\n",
       "      <td>Airport</td>\n",
       "      <td>1.0</td>\n",
       "      <td>Trip Completed</td>\n",
       "      <td>11</td>\n",
       "      <td>11</td>\n",
       "    </tr>\n",
       "    <tr>\n",
       "      <th>1</th>\n",
       "      <td>867</td>\n",
       "      <td>Airport</td>\n",
       "      <td>1.0</td>\n",
       "      <td>Trip Completed</td>\n",
       "      <td>17</td>\n",
       "      <td>17</td>\n",
       "    </tr>\n",
       "    <tr>\n",
       "      <th>2</th>\n",
       "      <td>1807</td>\n",
       "      <td>City</td>\n",
       "      <td>1.0</td>\n",
       "      <td>Trip Completed</td>\n",
       "      <td>9</td>\n",
       "      <td>9</td>\n",
       "    </tr>\n",
       "    <tr>\n",
       "      <th>3</th>\n",
       "      <td>2532</td>\n",
       "      <td>Airport</td>\n",
       "      <td>1.0</td>\n",
       "      <td>Trip Completed</td>\n",
       "      <td>21</td>\n",
       "      <td>21</td>\n",
       "    </tr>\n",
       "    <tr>\n",
       "      <th>4</th>\n",
       "      <td>3112</td>\n",
       "      <td>City</td>\n",
       "      <td>1.0</td>\n",
       "      <td>Trip Completed</td>\n",
       "      <td>8</td>\n",
       "      <td>8</td>\n",
       "    </tr>\n",
       "    <tr>\n",
       "      <th>...</th>\n",
       "      <td>...</td>\n",
       "      <td>...</td>\n",
       "      <td>...</td>\n",
       "      <td>...</td>\n",
       "      <td>...</td>\n",
       "      <td>...</td>\n",
       "    </tr>\n",
       "    <tr>\n",
       "      <th>6740</th>\n",
       "      <td>6745</td>\n",
       "      <td>City</td>\n",
       "      <td>NaN</td>\n",
       "      <td>No Cars Available</td>\n",
       "      <td>23</td>\n",
       "      <td>23</td>\n",
       "    </tr>\n",
       "    <tr>\n",
       "      <th>6741</th>\n",
       "      <td>6752</td>\n",
       "      <td>Airport</td>\n",
       "      <td>NaN</td>\n",
       "      <td>No Cars Available</td>\n",
       "      <td>23</td>\n",
       "      <td>23</td>\n",
       "    </tr>\n",
       "    <tr>\n",
       "      <th>6742</th>\n",
       "      <td>6751</td>\n",
       "      <td>City</td>\n",
       "      <td>NaN</td>\n",
       "      <td>No Cars Available</td>\n",
       "      <td>23</td>\n",
       "      <td>23</td>\n",
       "    </tr>\n",
       "    <tr>\n",
       "      <th>6743</th>\n",
       "      <td>6754</td>\n",
       "      <td>City</td>\n",
       "      <td>NaN</td>\n",
       "      <td>No Cars Available</td>\n",
       "      <td>23</td>\n",
       "      <td>23</td>\n",
       "    </tr>\n",
       "    <tr>\n",
       "      <th>6744</th>\n",
       "      <td>6753</td>\n",
       "      <td>Airport</td>\n",
       "      <td>NaN</td>\n",
       "      <td>No Cars Available</td>\n",
       "      <td>23</td>\n",
       "      <td>23</td>\n",
       "    </tr>\n",
       "  </tbody>\n",
       "</table>\n",
       "<p>6745 rows × 6 columns</p>\n",
       "</div>"
      ],
      "text/plain": [
       "      Request_ID Pickup_Point  Driver_ID             Status  Request_Hour  \\\n",
       "0            619      Airport        1.0     Trip Completed            11   \n",
       "1            867      Airport        1.0     Trip Completed            17   \n",
       "2           1807         City        1.0     Trip Completed             9   \n",
       "3           2532      Airport        1.0     Trip Completed            21   \n",
       "4           3112         City        1.0     Trip Completed             8   \n",
       "...          ...          ...        ...                ...           ...   \n",
       "6740        6745         City        NaN  No Cars Available            23   \n",
       "6741        6752      Airport        NaN  No Cars Available            23   \n",
       "6742        6751         City        NaN  No Cars Available            23   \n",
       "6743        6754         City        NaN  No Cars Available            23   \n",
       "6744        6753      Airport        NaN  No Cars Available            23   \n",
       "\n",
       "      Drop_Hour  \n",
       "0            11  \n",
       "1            17  \n",
       "2             9  \n",
       "3            21  \n",
       "4             8  \n",
       "...         ...  \n",
       "6740         23  \n",
       "6741         23  \n",
       "6742         23  \n",
       "6743         23  \n",
       "6744         23  \n",
       "\n",
       "[6745 rows x 6 columns]"
      ]
     },
     "execution_count": 150,
     "metadata": {},
     "output_type": "execute_result"
    }
   ],
   "source": [
    "#Deleting the time-stamp columns\n",
    "df.drop(['Request_Timestamp','Drop_Timestamp'], axis = 1, inplace = True)\n",
    "df"
   ]
  },
  {
   "cell_type": "code",
   "execution_count": 151,
   "id": "40b0304a",
   "metadata": {},
   "outputs": [],
   "source": [
    "#Filtering out all cancelled trips from the data\n",
    "cancelled_trips = df[df['Status'] == 'Cancelled']"
   ]
  },
  {
   "cell_type": "code",
   "execution_count": 152,
   "id": "cd810061",
   "metadata": {},
   "outputs": [
    {
     "data": {
      "text/plain": [
       "(1264, 6)"
      ]
     },
     "execution_count": 152,
     "metadata": {},
     "output_type": "execute_result"
    }
   ],
   "source": [
    "#Shape of cancelled trips\n",
    "cancelled_trips.shape"
   ]
  },
  {
   "cell_type": "code",
   "execution_count": 153,
   "id": "316b35e9",
   "metadata": {},
   "outputs": [],
   "source": [
    "#Filtering out the trips where no car was available\n",
    "no_cars_available = df[df['Status'] == 'No Cars Available']"
   ]
  },
  {
   "cell_type": "code",
   "execution_count": 154,
   "id": "ff7e34c9",
   "metadata": {},
   "outputs": [
    {
     "data": {
      "text/plain": [
       "(2650, 6)"
      ]
     },
     "execution_count": 154,
     "metadata": {},
     "output_type": "execute_result"
    }
   ],
   "source": [
    "#No. of trips with no cars available\n",
    "no_cars_available.shape"
   ]
  },
  {
   "cell_type": "code",
   "execution_count": 155,
   "id": "2e7e1924",
   "metadata": {},
   "outputs": [],
   "source": [
    "#Filtering out completed trips from the data\n",
    "completed_trips = df[df['Status'] == 'Trip Completed']"
   ]
  },
  {
   "cell_type": "code",
   "execution_count": 158,
   "id": "42916086",
   "metadata": {},
   "outputs": [
    {
     "data": {
      "text/plain": [
       "(2831, 6)"
      ]
     },
     "execution_count": 158,
     "metadata": {},
     "output_type": "execute_result"
    }
   ],
   "source": [
    "#Shape of completed trips\n",
    "completed_trips.shape"
   ]
  },
  {
   "cell_type": "code",
   "execution_count": 159,
   "id": "83df92e0",
   "metadata": {},
   "outputs": [
    {
     "data": {
      "text/plain": [
       "Trip Completed       2831\n",
       "No Cars Available    2650\n",
       "Cancelled            1264\n",
       "Name: Status, dtype: int64"
      ]
     },
     "execution_count": 159,
     "metadata": {},
     "output_type": "execute_result"
    }
   ],
   "source": [
    "#get all unique status values\n",
    "df['Status'].value_counts()"
   ]
  },
  {
   "cell_type": "code",
   "execution_count": 162,
   "id": "b1c22352",
   "metadata": {},
   "outputs": [
    {
     "data": {
      "text/plain": [
       "([<matplotlib.patches.Wedge at 0x1394141cb80>,\n",
       "  <matplotlib.patches.Wedge at 0x1394142b2e0>,\n",
       "  <matplotlib.patches.Wedge at 0x1394142ba30>],\n",
       " [Text(0.27450168572516814, 1.065198960069921, 'Trip Completed'),\n",
       "  Text(-0.8197978372292603, -0.7334381405914391, 'No Cars Available'),\n",
       "  Text(0.9148122117335418, -0.6108343615606329, 'Cancelled')],\n",
       " [Text(0.14972819221372807, 0.5810176145835932, '41.97%'),\n",
       "  Text(-0.4471624566705055, -0.40005716759533033, '39.29%'),\n",
       "  Text(0.4989884791273863, -0.3331823790330724, '18.74%')])"
      ]
     },
     "execution_count": 162,
     "metadata": {},
     "output_type": "execute_result"
    },
    {
     "data": {
      "image/png": "[encoded data removed]",
      "text/plain": [
       "<Figure size 640x480 with 1 Axes>"
      ]
     },
     "metadata": {},
     "output_type": "display_data"
    }
   ],
   "source": [
    "#Plotting pie-chart to show number of trips of each value\n",
    "y = np.array([2831,2650,1264])\n",
    "status_labels = ['Trip Completed','No Cars Available','Cancelled']\n",
    "plt.pie(y, labels = status_labels, autopct = '%2.2f%%')"
   ]
  },
  {
   "cell_type": "code",
   "execution_count": 166,
   "id": "d1a1a80c",
   "metadata": {},
   "outputs": [
    {
     "data": {
      "text/plain": [
       "([<matplotlib.patches.Wedge at 0x13941475ac0>,\n",
       "  <matplotlib.patches.Wedge at 0x13941484220>],\n",
       " [Text(0.6587063113848798, 0.8809687822742223, 'Supply'),\n",
       "  Text(-0.6587063113848801, -0.8809687822742219, 'Demand')],\n",
       " [Text(0.3592943516644798, 0.48052842669503026, '29.56%'),\n",
       "  Text(-0.35929435166448004, -0.4805284266950301, '70.44%')])"
      ]
     },
     "execution_count": 166,
     "metadata": {},
     "output_type": "execute_result"
    },
    {
     "data": {
      "image/png": "[encoded data removed]",
      "text/plain": [
       "<Figure size 640x480 with 1 Axes>"
      ]
     },
     "metadata": {},
     "output_type": "display_data"
    }
   ],
   "source": [
    "#Displaying Supply-Demand Gap using a pie-chart\n",
    "x = ['Supply', 'Demand']\n",
    "supply_demand = np.array([2831,6745])\n",
    "plt.pie(supply_demand, labels = x, autopct = \"%2.2f%%\")\n"
   ]
  },
  {
   "cell_type": "code",
   "execution_count": 167,
   "id": "6b88e3c8",
   "metadata": {},
   "outputs": [
    {
     "data": {
      "text/html": [
       "<div>\n",
       "<style scoped>\n",
       "    .dataframe tbody tr th:only-of-type {\n",
       "        vertical-align: middle;\n",
       "    }\n",
       "\n",
       "    .dataframe tbody tr th {\n",
       "        vertical-align: top;\n",
       "    }\n",
       "\n",
       "    .dataframe thead th {\n",
       "        text-align: right;\n",
       "    }\n",
       "</style>\n",
       "<table border=\"1\" class=\"dataframe\">\n",
       "  <thead>\n",
       "    <tr style=\"text-align: right;\">\n",
       "      <th></th>\n",
       "      <th>Request_ID</th>\n",
       "      <th>Pickup_Point</th>\n",
       "      <th>Driver_ID</th>\n",
       "      <th>Status</th>\n",
       "      <th>Request_Hour</th>\n",
       "      <th>Drop_Hour</th>\n",
       "    </tr>\n",
       "  </thead>\n",
       "  <tbody>\n",
       "    <tr>\n",
       "      <th>2831</th>\n",
       "      <td>2905</td>\n",
       "      <td>City</td>\n",
       "      <td>1.0</td>\n",
       "      <td>Cancelled</td>\n",
       "      <td>6</td>\n",
       "      <td>6</td>\n",
       "    </tr>\n",
       "    <tr>\n",
       "      <th>2832</th>\n",
       "      <td>4805</td>\n",
       "      <td>City</td>\n",
       "      <td>1.0</td>\n",
       "      <td>Cancelled</td>\n",
       "      <td>17</td>\n",
       "      <td>17</td>\n",
       "    </tr>\n",
       "    <tr>\n",
       "      <th>2833</th>\n",
       "      <td>5202</td>\n",
       "      <td>Airport</td>\n",
       "      <td>1.0</td>\n",
       "      <td>Cancelled</td>\n",
       "      <td>20</td>\n",
       "      <td>20</td>\n",
       "    </tr>\n",
       "    <tr>\n",
       "      <th>2834</th>\n",
       "      <td>5927</td>\n",
       "      <td>City</td>\n",
       "      <td>1.0</td>\n",
       "      <td>Cancelled</td>\n",
       "      <td>10</td>\n",
       "      <td>10</td>\n",
       "    </tr>\n",
       "    <tr>\n",
       "      <th>2835</th>\n",
       "      <td>2347</td>\n",
       "      <td>Airport</td>\n",
       "      <td>2.0</td>\n",
       "      <td>Cancelled</td>\n",
       "      <td>19</td>\n",
       "      <td>19</td>\n",
       "    </tr>\n",
       "    <tr>\n",
       "      <th>...</th>\n",
       "      <td>...</td>\n",
       "      <td>...</td>\n",
       "      <td>...</td>\n",
       "      <td>...</td>\n",
       "      <td>...</td>\n",
       "      <td>...</td>\n",
       "    </tr>\n",
       "    <tr>\n",
       "      <th>4090</th>\n",
       "      <td>1641</td>\n",
       "      <td>City</td>\n",
       "      <td>299.0</td>\n",
       "      <td>Cancelled</td>\n",
       "      <td>7</td>\n",
       "      <td>7</td>\n",
       "    </tr>\n",
       "    <tr>\n",
       "      <th>4091</th>\n",
       "      <td>4158</td>\n",
       "      <td>City</td>\n",
       "      <td>299.0</td>\n",
       "      <td>Cancelled</td>\n",
       "      <td>5</td>\n",
       "      <td>5</td>\n",
       "    </tr>\n",
       "    <tr>\n",
       "      <th>4092</th>\n",
       "      <td>4164</td>\n",
       "      <td>City</td>\n",
       "      <td>299.0</td>\n",
       "      <td>Cancelled</td>\n",
       "      <td>5</td>\n",
       "      <td>5</td>\n",
       "    </tr>\n",
       "    <tr>\n",
       "      <th>4093</th>\n",
       "      <td>4448</td>\n",
       "      <td>City</td>\n",
       "      <td>299.0</td>\n",
       "      <td>Cancelled</td>\n",
       "      <td>8</td>\n",
       "      <td>8</td>\n",
       "    </tr>\n",
       "    <tr>\n",
       "      <th>4094</th>\n",
       "      <td>4225</td>\n",
       "      <td>City</td>\n",
       "      <td>300.0</td>\n",
       "      <td>Cancelled</td>\n",
       "      <td>5</td>\n",
       "      <td>5</td>\n",
       "    </tr>\n",
       "  </tbody>\n",
       "</table>\n",
       "<p>1264 rows × 6 columns</p>\n",
       "</div>"
      ],
      "text/plain": [
       "      Request_ID Pickup_Point  Driver_ID     Status  Request_Hour  Drop_Hour\n",
       "2831        2905         City        1.0  Cancelled             6          6\n",
       "2832        4805         City        1.0  Cancelled            17         17\n",
       "2833        5202      Airport        1.0  Cancelled            20         20\n",
       "2834        5927         City        1.0  Cancelled            10         10\n",
       "2835        2347      Airport        2.0  Cancelled            19         19\n",
       "...          ...          ...        ...        ...           ...        ...\n",
       "4090        1641         City      299.0  Cancelled             7          7\n",
       "4091        4158         City      299.0  Cancelled             5          5\n",
       "4092        4164         City      299.0  Cancelled             5          5\n",
       "4093        4448         City      299.0  Cancelled             8          8\n",
       "4094        4225         City      300.0  Cancelled             5          5\n",
       "\n",
       "[1264 rows x 6 columns]"
      ]
     },
     "execution_count": 167,
     "metadata": {},
     "output_type": "execute_result"
    }
   ],
   "source": [
    "# Converting the hours column to list format\n"
   ]
  },
  {
   "cell_type": "code",
   "execution_count": 169,
   "id": "c2623c28",
   "metadata": {},
   "outputs": [],
   "source": [
    "#Histogram to show the timeslots when trips got cancelled\n",
    "cancelled_hour = cancelled_trips['Request_Hour'].tolist()\n",
    "not_available_hour = no_cars_available['Request_Hour'].tolist()\n",
    "\n",
    "range = (0, 23)\n",
    "bins = 24 #intervals/buckets\n",
    "\n",
    "#function to draw histogram chart\n",
    "def plots(q):\n",
    "    plt.hist(q, bins, range, color = 'orange', histtype = 'bar', rwidth = 0.8)\n",
    "    plt.xlabel('Time Slots')\n",
    "    plt.ylabel('No. of trips')"
   ]
  },
  {
   "cell_type": "code",
   "execution_count": 170,
   "id": "3c13f7f7",
   "metadata": {},
   "outputs": [
    {
     "data": {
      "image/png": "[encoded data removed]",
      "text/plain": [
       "<Figure size 640x480 with 1 Axes>"
      ]
     },
     "metadata": {},
     "output_type": "display_data"
    }
   ],
   "source": [
    "plots(cancelled_hour)\n"
   ]
  },
  {
   "cell_type": "code",
   "execution_count": 171,
   "id": "02e9f308",
   "metadata": {},
   "outputs": [
    {
     "data": {
      "image/png": "[encoded data removed]",
      "text/plain": [
       "<Figure size 640x480 with 1 Axes>"
      ]
     },
     "metadata": {},
     "output_type": "display_data"
    }
   ],
   "source": [
    "plots(not_available_hour)"
   ]
  },
  {
   "cell_type": "code",
   "execution_count": 178,
   "id": "6b794f5f",
   "metadata": {},
   "outputs": [
    {
     "data": {
      "text/plain": [
       "(2003, 6)"
      ]
     },
     "execution_count": 178,
     "metadata": {},
     "output_type": "execute_result"
    }
   ],
   "source": [
    "#Filtering unsuccessful trips from city to airport\n",
    "city_to_airport = df[(df.Status != 'Trip Completed') & (df.Pickup_Point == 'City')]\n",
    "city_to_airport.shape"
   ]
  },
  {
   "cell_type": "code",
   "execution_count": 179,
   "id": "67ba25ff",
   "metadata": {},
   "outputs": [
    {
     "data": {
      "text/plain": [
       "(1911, 6)"
      ]
     },
     "execution_count": 179,
     "metadata": {},
     "output_type": "execute_result"
    }
   ],
   "source": [
    "#Filtering unsuccessful trips from airport to city\n",
    "airport_to_city = df[(df.Status != 'Trip Completed') & (df.Pickup_Point == 'Airport')]\n",
    "airport_to_city.shape"
   ]
  },
  {
   "cell_type": "code",
   "execution_count": 180,
   "id": "5f35742a",
   "metadata": {},
   "outputs": [
    {
     "data": {
      "text/plain": [
       "([<matplotlib.patches.Wedge at 0x139415c8be0>,\n",
       "  <matplotlib.patches.Wedge at 0x139415d7340>],\n",
       " [Text(0.04060517048133803, 1.0992502991267192, 'Failed Trips from Airport to City'),\n",
       "  Text(-0.04060527340057912, -1.0992502953249839, 'Failed Trips from City to Airport')],\n",
       " [Text(0.022148274808002556, 0.5995910722509377, '48.82%'),\n",
       "  Text(-0.022148330945770428, -0.5995910701772639, '51.18%')])"
      ]
     },
     "execution_count": 180,
     "metadata": {},
     "output_type": "execute_result"
    },
    {
     "data": {
      "image/png": "[encoded data removed]",
      "text/plain": [
       "<Figure size 640x480 with 1 Axes>"
      ]
     },
     "metadata": {},
     "output_type": "display_data"
    }
   ],
   "source": [
    "#Bar Graph to show the gap between unsuccessful trips from city to airport and from airport to city\n",
    "p = [\"Failed Trips from Airport to City\", \"Failed Trips from City to Airport\"]\n",
    "q = np.array([1911, 2003])\n",
    "plt.pie(q, labels = p, autopct = '%2.2f%%')\n"
   ]
  },
  {
   "cell_type": "code",
   "execution_count": 185,
   "id": "9a86bd50",
   "metadata": {},
   "outputs": [
    {
     "data": {
      "text/plain": [
       "(1066, 6)"
      ]
     },
     "execution_count": 185,
     "metadata": {},
     "output_type": "execute_result"
    }
   ],
   "source": [
    "#Filtering cancelled trips from city to airport\n",
    "city_to_airport_cancelled= df[(df.Status == \"Cancelled\") & (df.Pickup_Point == \"City\")]\n",
    "city_to_airport_cancelled.shape\n"
   ]
  },
  {
   "cell_type": "code",
   "execution_count": 188,
   "id": "0705fefb",
   "metadata": {},
   "outputs": [
    {
     "data": {
      "text/plain": [
       "(198, 6)"
      ]
     },
     "execution_count": 188,
     "metadata": {},
     "output_type": "execute_result"
    }
   ],
   "source": [
    "#Filtering cancelled trips from airport to city\n",
    "airport_to_city_cancelled= df[(df.Status == \"Cancelled\") & (df.Pickup_Point == \"Airport\")]\n",
    "airport_to_city_cancelled.shape\n",
    "\n"
   ]
  },
  {
   "cell_type": "code",
   "execution_count": 189,
   "id": "f0c1d96f",
   "metadata": {},
   "outputs": [
    {
     "data": {
      "text/plain": [
       "(937, 6)"
      ]
     },
     "execution_count": 189,
     "metadata": {},
     "output_type": "execute_result"
    }
   ],
   "source": [
    "#Filtering cancelled trips from city to airport when cars were not available\n",
    "city_to_airport_not_available = df[(df.Status == 'No Cars Available') & (df.Pickup_Point == 'City')]\n",
    "city_to_airport_not_available.shape"
   ]
  },
  {
   "cell_type": "code",
   "execution_count": 190,
   "id": "13a8cb89",
   "metadata": {},
   "outputs": [
    {
     "data": {
      "text/plain": [
       "(1713, 6)"
      ]
     },
     "execution_count": 190,
     "metadata": {},
     "output_type": "execute_result"
    }
   ],
   "source": [
    "#Filtering cancelled trips from airport to city when cars were not available\n",
    "airport_to_city_not_available = df[(df.Status == 'No Cars Available') & (df.Pickup_Point == 'Airport')]\n",
    "airport_to_city_not_available.shape"
   ]
  },
  {
   "cell_type": "code",
   "execution_count": 191,
   "id": "31edb3a3",
   "metadata": {},
   "outputs": [],
   "source": [
    "#Number of hours to list format\n",
    "city_to_airport_cancelled_hour = city_to_airport_cancelled['Request_Hour'].tolist()"
   ]
  },
  {
   "cell_type": "code",
   "execution_count": 193,
   "id": "cbf7c508",
   "metadata": {},
   "outputs": [
    {
     "data": {
      "image/png": "[encoded data removed]",
      "text/plain": [
       "<Figure size 640x480 with 1 Axes>"
      ]
     },
     "metadata": {},
     "output_type": "display_data"
    }
   ],
   "source": [
    "#Plotting a histogram to show the time slots when trip from city to airport got cancelled\n",
    "plots(city_to_airport_cancelled_hour)"
   ]
  },
  {
   "cell_type": "code",
   "execution_count": 195,
   "id": "a4adbba3",
   "metadata": {},
   "outputs": [
    {
     "data": {
      "image/png": "[encoded data removed]",
      "text/plain": [
       "<Figure size 640x480 with 1 Axes>"
      ]
     },
     "metadata": {},
     "output_type": "display_data"
    }
   ],
   "source": [
    "#Plotting a histogram to show the time slots when cars were not available for city to airport trip\n",
    "city_to_airport_not_available_hour = city_to_airport_not_available['Request_Hour'].tolist()\n",
    "plots(city_to_airport_not_available_hour)"
   ]
  },
  {
   "cell_type": "code",
   "execution_count": 196,
   "id": "e3a5dbec",
   "metadata": {},
   "outputs": [
    {
     "data": {
      "image/png": "[encoded data removed]",
      "text/plain": [
       "<Figure size 640x480 with 1 Axes>"
      ]
     },
     "metadata": {},
     "output_type": "display_data"
    }
   ],
   "source": [
    "#Plotting a histogram to show the time slots when trips from airport to city got cancelled\n",
    "airport_to_city_cancelled_hour = airport_to_city_cancelled['Request_Hour'].tolist()\n",
    "plots(airport_to_city_cancelled_hour)"
   ]
  },
  {
   "cell_type": "code",
   "execution_count": 197,
   "id": "6a1534d9",
   "metadata": {},
   "outputs": [
    {
     "data": {
      "image/png": "[encoded data removed]",
      "text/plain": [
       "<Figure size 640x480 with 1 Axes>"
      ]
     },
     "metadata": {},
     "output_type": "display_data"
    }
   ],
   "source": [
    "#Plotting a histogram to show the time slots when cars were not availabale for airport to city trip\n",
    "airport_to_city_not_available_hour = airport_to_city_not_available['Request_Hour'].tolist()\n",
    "plots(airport_to_city_not_available_hour)"
   ]
  },
  {
   "cell_type": "code",
   "execution_count": null,
   "id": "633613fe",
   "metadata": {},
   "outputs": [],
   "source": []
  }
 ],
 "metadata": {
  "kernelspec": {
   "display_name": "Python 3 (ipykernel)",
   "language": "python",
   "name": "python3"
  },
  "language_info": {
   "codemirror_mode": {
    "name": "ipython",
    "version": 3
   },
   "file_extension": ".py",
   "mimetype": "text/x-python",
   "name": "python",
   "nbconvert_exporter": "python",
   "pygments_lexer": "ipython3",
   "version": "3.9.13"
  }
 },
 "nbformat": 4,
 "nbformat_minor": 5
}
